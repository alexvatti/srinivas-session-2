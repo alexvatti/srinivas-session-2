{
 "cells": [
  {
   "cell_type": "markdown",
   "id": "pretty-participant",
   "metadata": {},
   "source": [
    "### vector - matrix - operations\n",
    "\n"
   ]
  },
  {
   "cell_type": "code",
   "execution_count": 1,
   "id": "cardiac-clear",
   "metadata": {},
   "outputs": [
    {
     "name": "stdout",
     "output_type": "stream",
     "text": [
      "[1 2 3]\n",
      "dim 1\n",
      "shape (3,)\n",
      "size:num of elements 3\n"
     ]
    }
   ],
   "source": [
    "#import numpy and creata a matrix / vector\n",
    "\n",
    "import numpy as np\n",
    "a = np.array([1,2,3])\n",
    "print(a)\n",
    "print(\"dim\",a.ndim)\n",
    "print(\"shape\",a.shape)\n",
    "print(\"size:num of elements\",a.size)"
   ]
  },
  {
   "cell_type": "markdown",
   "id": "secure-northeast",
   "metadata": {},
   "source": [
    "### Arithmatic operatation on vectors"
   ]
  },
  {
   "cell_type": "code",
   "execution_count": 17,
   "id": "satellite-saskatchewan",
   "metadata": {},
   "outputs": [
    {
     "name": "stdout",
     "output_type": "stream",
     "text": [
      "array/matrix a [1 2 3 4 5]\n",
      "array/matrix b [1 2 3 4 5]\n",
      "addition [ 2  4  6  8 10]\n",
      "difference [0 0 0 0 0]\n",
      "multiplication [ 1  4  9 16 25]\n",
      "division [1 1 1 1 1]\n"
     ]
    }
   ],
   "source": [
    "#import numpy and create two matrix and do the operations\n",
    "a = np.array([1,2,3,4,5])\n",
    "b = np.array([1,2,3,4,5])\n",
    "print(\"array/matrix a\",a)\n",
    "print(\"array/matrix b\",b)\n",
    "\n",
    "print(\"addition\",a+b)\n",
    "print(\"difference\",a-b)\n",
    "print(\"multiplication\",a*b)\n",
    "print(\"division\",a//b)"
   ]
  },
  {
   "cell_type": "markdown",
   "id": "metallic-emerald",
   "metadata": {},
   "source": [
    "### vector dot product , is scalar , number"
   ]
  },
  {
   "cell_type": "code",
   "execution_count": 18,
   "id": "accessible-moldova",
   "metadata": {},
   "outputs": [
    {
     "name": "stdout",
     "output_type": "stream",
     "text": [
      "vector a [1 2 3 4 5]\n",
      "vector b [1 2 3 4 5]\n",
      "dot product 55\n"
     ]
    }
   ],
   "source": [
    "###vector dot product , is scalar , number\n",
    "import numpy as np\n",
    "a = np.array([1,2,3,4,5])\n",
    "b = np.array([1,2,3,4,5])\n",
    "print(\"vector a\",a)\n",
    "print(\"vector b\",b)\n",
    "v_dot = a.dot(b)\n",
    "print(\"dot product\",v_dot)"
   ]
  },
  {
   "cell_type": "markdown",
   "id": "gorgeous-parameter",
   "metadata": {},
   "source": [
    "### vector scalar multiplication"
   ]
  },
  {
   "cell_type": "code",
   "execution_count": 19,
   "id": "opening-comparison",
   "metadata": {},
   "outputs": [
    {
     "name": "stdout",
     "output_type": "stream",
     "text": [
      "Vector a [1 2 3 4 5]\n",
      "Vector multipled 3 [ 3  6  9 12 15]\n"
     ]
    }
   ],
   "source": [
    "#vector scalar multiplication\n",
    "import numpy as np\n",
    "a = np.array([1,2,3,4,5])\n",
    "print(\"Vector a\",a)\n",
    "y = 3 * a\n",
    "print(\"Vector multipled 3\",y)"
   ]
  },
  {
   "cell_type": "markdown",
   "id": "automated-facial",
   "metadata": {},
   "source": [
    "### vector distance - length"
   ]
  },
  {
   "cell_type": "code",
   "execution_count": 7,
   "id": "missing-advertising",
   "metadata": {},
   "outputs": [
    {
     "name": "stdout",
     "output_type": "stream",
     "text": [
      "vector a [3 4]\n",
      "vector length/distance 5.0\n"
     ]
    }
   ],
   "source": [
    "#vector distance - length\n",
    "#https://www.geeksforgeeks.org/how-to-get-the-magnitude-of-a-vector-in-numpy/\n",
    "#L2 NORM\n",
    "import numpy as np\n",
    "from numpy.linalg import norm\n",
    "a = np.array([3,4])\n",
    "print(\"vector a\",a)\n",
    "y = norm(a)\n",
    "print(\"vector length/distance\",y)"
   ]
  },
  {
   "cell_type": "code",
   "execution_count": 9,
   "id": "revolutionary-clause",
   "metadata": {},
   "outputs": [
    {
     "name": "stdout",
     "output_type": "stream",
     "text": [
      "vector length/distance 7.0\n"
     ]
    }
   ],
   "source": [
    "#vector distance - length\n",
    "#L1 NORM\n",
    "import numpy as np\n",
    "from numpy.linalg import norm\n",
    "a = np.array([3,4])\n",
    "y = norm(a,ord=1)\n",
    "print(\"vector length/distance\",y)"
   ]
  },
  {
   "cell_type": "code",
   "execution_count": 20,
   "id": "regulation-draft",
   "metadata": {},
   "outputs": [
    {
     "name": "stdout",
     "output_type": "stream",
     "text": [
      "max norm length/distance 4.0\n"
     ]
    }
   ],
   "source": [
    "###vector max norm\n",
    "#vector length -distance - max norm - p norm\n",
    "import numpy as np\n",
    "from math import inf\n",
    "a = np.array([3,4])\n",
    "l=np.linalg.norm(a,ord=inf)\n",
    "print(\"max norm length/distance\",l)"
   ]
  },
  {
   "cell_type": "markdown",
   "id": "fancy-shooting",
   "metadata": {},
   "source": [
    "### matrix - multiplication -hadaman"
   ]
  },
  {
   "cell_type": "code",
   "execution_count": 21,
   "id": "genuine-porcelain",
   "metadata": {},
   "outputs": [
    {
     "name": "stdout",
     "output_type": "stream",
     "text": [
      "a matrix [[1 2]\n",
      " [3 4]]\n",
      "b matrix [[1 2]\n",
      " [3 4]]\n",
      "eleement by element multiplication [[ 1  4]\n",
      " [ 9 16]]\n",
      "Maxtrix mul [[ 7 10]\n",
      " [15 22]]\n"
     ]
    }
   ],
   "source": [
    "#matrix - multiplication -hadaman\n",
    "import numpy as np\n",
    "a = np.array([[1,2],[3,4]])\n",
    "b = np.array([[1,2],[3,4]])\n",
    "print(\"a matrix\",a)\n",
    "print(\"b matrix\",b)\n",
    "print(\"eleement by element multiplication\",a*b)\n",
    "#matrix - multiplication \n",
    "print(\"Maxtrix mul\",np.matmul(a,b))"
   ]
  },
  {
   "cell_type": "markdown",
   "id": "robust-majority",
   "metadata": {},
   "source": [
    "### matrix transpose , det , rank , inv"
   ]
  },
  {
   "cell_type": "code",
   "execution_count": 22,
   "id": "downtown-lafayette",
   "metadata": {},
   "outputs": [
    {
     "name": "stdout",
     "output_type": "stream",
     "text": [
      "Matrix a [[1 2]\n",
      " [3 4]]\n",
      "Matrix transpose [[1 3]\n",
      " [2 4]]\n",
      "Matrix det -2.0000000000000004\n",
      "Matrix rank 2\n",
      "Matrix Inv [[-2.   1. ]\n",
      " [ 1.5 -0.5]]\n"
     ]
    }
   ],
   "source": [
    "#transpose\n",
    "a = np.array([[1,2],[3,4]])\n",
    "print(\"Matrix a\",a)\n",
    "print(\"Matrix transpose\",a.T)\n",
    "#det\n",
    "print(\"Matrix det\",np.linalg.det(a))\n",
    "#rank\n",
    "print(\"Matrix rank\",np.linalg.matrix_rank(a))\n",
    "#inv\n",
    "print(\"Matrix Inv\",np.linalg.inv(a))"
   ]
  },
  {
   "cell_type": "markdown",
   "id": "seventh-thunder",
   "metadata": {},
   "source": [
    "### angle - between two vectors"
   ]
  },
  {
   "cell_type": "code",
   "execution_count": 26,
   "id": "standard-dining",
   "metadata": {},
   "outputs": [
    {
     "name": "stdout",
     "output_type": "stream",
     "text": [
      "Angle 0.9272952180016123\n"
     ]
    }
   ],
   "source": [
    "from numpy import (array, dot, arccos, clip)\n",
    "from numpy.linalg import norm\n",
    "\n",
    "u = array([1,2])\n",
    "v = array([-1,2])\n",
    "c = dot(u,v)/norm(u)/norm(v) # -> cosine of the angle\n",
    "angle = arccos(clip(c, -1, 1)) # if you really want the angle\n",
    "print(\"Angle\",angle)\n"
   ]
  }
 ],
 "metadata": {
  "kernelspec": {
   "display_name": "Python 3",
   "language": "python",
   "name": "python3"
  },
  "language_info": {
   "codemirror_mode": {
    "name": "ipython",
    "version": 3
   },
   "file_extension": ".py",
   "mimetype": "text/x-python",
   "name": "python",
   "nbconvert_exporter": "python",
   "pygments_lexer": "ipython3",
   "version": "3.6.9"
  }
 },
 "nbformat": 4,
 "nbformat_minor": 5
}
